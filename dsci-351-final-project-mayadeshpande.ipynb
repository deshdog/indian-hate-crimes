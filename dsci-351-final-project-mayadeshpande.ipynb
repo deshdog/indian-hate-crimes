{
 "cells": [
  {
   "cell_type": "markdown",
   "metadata": {},
   "source": [
    "# Final Project: Hate Crimes in India\n",
    "## Maya Deshpande (USC ID: 8590996325)\n",
    "## Professor Wensheng Wu\n",
    "## DSCI-351"
   ]
  },
  {
   "cell_type": "markdown",
   "metadata": {},
   "source": [
    "Please see section titled \"Final Presentation: Demo\" to see my finished analytics, exploration, and search functionalities for grading."
   ]
  },
  {
   "cell_type": "code",
   "execution_count": 1,
   "metadata": {},
   "outputs": [],
   "source": [
    "import os\n",
    "import mysql\n",
    "import mysql.connector as sql\n",
    "import pandas as pd\n",
    "import numpy as np\n",
    "import matplotlib.pyplot as plt\n",
    "import ipywidgets as widgets\n",
    "from ipywidgets import GridspecLayout, Button, Layout, jslink, IntText, IntSlider\n",
    "from ipyleaflet import Map, Marker, basemaps, MarkerCluster\n",
    "from ipywidgets import *\n",
    "from IPython.display import display\n",
    "from ipywidgets import interact, interact_manual"
   ]
  },
  {
   "cell_type": "markdown",
   "metadata": {},
   "source": [
    "## 1) Establish connection with MySQL server"
   ]
  },
  {
   "cell_type": "code",
   "execution_count": 2,
   "metadata": {},
   "outputs": [],
   "source": [
    "connection = sql.connect(host = \"127.0.0.1\", user = 'root', passwd = 'password',db = 'indiaHateCrimes')\n",
    "cursor = connection.cursor()"
   ]
  },
  {
   "cell_type": "code",
   "execution_count": 3,
   "metadata": {},
   "outputs": [
    {
     "data": {
      "text/plain": [
       "<mysql.connector.connection_cext.CMySQLConnection at 0x7fd1fc12d7f0>"
      ]
     },
     "execution_count": 3,
     "metadata": {},
     "output_type": "execute_result"
    }
   ],
   "source": [
    "connection"
   ]
  },
  {
   "cell_type": "markdown",
   "metadata": {},
   "source": [
    "## 2) Read in SQL tables and clean data"
   ]
  },
  {
   "cell_type": "code",
   "execution_count": 4,
   "metadata": {},
   "outputs": [],
   "source": [
    "hateCrimeTables = pd.read_sql_query('SHOW TABLES FROM indiaHateCrimes',connection)\n",
    "names = ['tables']\n",
    "hateCrimeTables.columns = names"
   ]
  },
  {
   "cell_type": "code",
   "execution_count": 5,
   "metadata": {},
   "outputs": [
    {
     "data": {
      "text/html": [
       "<div>\n",
       "<style scoped>\n",
       "    .dataframe tbody tr th:only-of-type {\n",
       "        vertical-align: middle;\n",
       "    }\n",
       "\n",
       "    .dataframe tbody tr th {\n",
       "        vertical-align: top;\n",
       "    }\n",
       "\n",
       "    .dataframe thead th {\n",
       "        text-align: right;\n",
       "    }\n",
       "</style>\n",
       "<table border=\"1\" class=\"dataframe\">\n",
       "  <thead>\n",
       "    <tr style=\"text-align: right;\">\n",
       "      <th></th>\n",
       "      <th>tables</th>\n",
       "    </tr>\n",
       "  </thead>\n",
       "  <tbody>\n",
       "    <tr>\n",
       "      <th>0</th>\n",
       "      <td>incident</td>\n",
       "    </tr>\n",
       "    <tr>\n",
       "      <th>1</th>\n",
       "      <td>legal</td>\n",
       "    </tr>\n",
       "    <tr>\n",
       "      <th>2</th>\n",
       "      <td>location</td>\n",
       "    </tr>\n",
       "    <tr>\n",
       "      <th>3</th>\n",
       "      <td>media</td>\n",
       "    </tr>\n",
       "    <tr>\n",
       "      <th>4</th>\n",
       "      <td>victim</td>\n",
       "    </tr>\n",
       "  </tbody>\n",
       "</table>\n",
       "</div>"
      ],
      "text/plain": [
       "     tables\n",
       "0  incident\n",
       "1     legal\n",
       "2  location\n",
       "3     media\n",
       "4    victim"
      ]
     },
     "execution_count": 5,
     "metadata": {},
     "output_type": "execute_result"
    }
   ],
   "source": [
    "hateCrimeTables"
   ]
  },
  {
   "cell_type": "code",
   "execution_count": 6,
   "metadata": {},
   "outputs": [
    {
     "data": {
      "text/html": [
       "<div>\n",
       "<style scoped>\n",
       "    .dataframe tbody tr th:only-of-type {\n",
       "        vertical-align: middle;\n",
       "    }\n",
       "\n",
       "    .dataframe tbody tr th {\n",
       "        vertical-align: top;\n",
       "    }\n",
       "\n",
       "    .dataframe thead th {\n",
       "        text-align: right;\n",
       "    }\n",
       "</style>\n",
       "<table border=\"1\" class=\"dataframe\">\n",
       "  <thead>\n",
       "    <tr style=\"text-align: right;\">\n",
       "      <th></th>\n",
       "      <th>_id</th>\n",
       "      <th>party_in_power</th>\n",
       "      <th>cow_related_violence</th>\n",
       "      <th>caste_related_violence</th>\n",
       "      <th>religion_related_violence</th>\n",
       "      <th>gender_related_violence</th>\n",
       "      <th>honour_killings</th>\n",
       "      <th>love_jihad</th>\n",
       "      <th>violence_against_adivasis</th>\n",
       "      <th>other</th>\n",
       "      <th>harassment</th>\n",
       "      <th>assault</th>\n",
       "      <th>killing</th>\n",
       "      <th>rape</th>\n",
       "      <th>sexual_harassment</th>\n",
       "      <th>property_damage</th>\n",
       "    </tr>\n",
       "  </thead>\n",
       "  <tbody>\n",
       "    <tr>\n",
       "      <th>0</th>\n",
       "      <td>1</td>\n",
       "      <td>BJP</td>\n",
       "      <td>No</td>\n",
       "      <td>Yes</td>\n",
       "      <td>No</td>\n",
       "      <td>Yes</td>\n",
       "      <td>No</td>\n",
       "      <td>No</td>\n",
       "      <td>No</td>\n",
       "      <td>No</td>\n",
       "      <td>No</td>\n",
       "      <td>No</td>\n",
       "      <td>No</td>\n",
       "      <td>Yes</td>\n",
       "      <td>No</td>\n",
       "      <td>No</td>\n",
       "    </tr>\n",
       "    <tr>\n",
       "      <th>1</th>\n",
       "      <td>2</td>\n",
       "      <td>BJP</td>\n",
       "      <td>No</td>\n",
       "      <td>Yes</td>\n",
       "      <td>No</td>\n",
       "      <td>No</td>\n",
       "      <td>No</td>\n",
       "      <td>No</td>\n",
       "      <td>No</td>\n",
       "      <td>No</td>\n",
       "      <td>No</td>\n",
       "      <td>No</td>\n",
       "      <td>Yes</td>\n",
       "      <td>No</td>\n",
       "      <td>No</td>\n",
       "      <td>No</td>\n",
       "    </tr>\n",
       "    <tr>\n",
       "      <th>2</th>\n",
       "      <td>3</td>\n",
       "      <td>SP</td>\n",
       "      <td>No</td>\n",
       "      <td>Yes</td>\n",
       "      <td>Yes</td>\n",
       "      <td>No</td>\n",
       "      <td>No</td>\n",
       "      <td>No</td>\n",
       "      <td>No</td>\n",
       "      <td>No</td>\n",
       "      <td>No</td>\n",
       "      <td>Yes</td>\n",
       "      <td>No</td>\n",
       "      <td>No</td>\n",
       "      <td>No</td>\n",
       "      <td>No</td>\n",
       "    </tr>\n",
       "    <tr>\n",
       "      <th>3</th>\n",
       "      <td>4</td>\n",
       "      <td>SP</td>\n",
       "      <td>No</td>\n",
       "      <td>Yes</td>\n",
       "      <td>No</td>\n",
       "      <td>Yes</td>\n",
       "      <td>No</td>\n",
       "      <td>No</td>\n",
       "      <td>No</td>\n",
       "      <td>No</td>\n",
       "      <td>No</td>\n",
       "      <td>No</td>\n",
       "      <td>No</td>\n",
       "      <td>No</td>\n",
       "      <td>Yes</td>\n",
       "      <td>No</td>\n",
       "    </tr>\n",
       "    <tr>\n",
       "      <th>4</th>\n",
       "      <td>5</td>\n",
       "      <td>BJD</td>\n",
       "      <td>No</td>\n",
       "      <td>Yes</td>\n",
       "      <td>No</td>\n",
       "      <td>Yes</td>\n",
       "      <td>No</td>\n",
       "      <td>No</td>\n",
       "      <td>No</td>\n",
       "      <td>No</td>\n",
       "      <td>No</td>\n",
       "      <td>No</td>\n",
       "      <td>No</td>\n",
       "      <td>No</td>\n",
       "      <td>Yes</td>\n",
       "      <td>No</td>\n",
       "    </tr>\n",
       "    <tr>\n",
       "      <th>...</th>\n",
       "      <td>...</td>\n",
       "      <td>...</td>\n",
       "      <td>...</td>\n",
       "      <td>...</td>\n",
       "      <td>...</td>\n",
       "      <td>...</td>\n",
       "      <td>...</td>\n",
       "      <td>...</td>\n",
       "      <td>...</td>\n",
       "      <td>...</td>\n",
       "      <td>...</td>\n",
       "      <td>...</td>\n",
       "      <td>...</td>\n",
       "      <td>...</td>\n",
       "      <td>...</td>\n",
       "      <td>...</td>\n",
       "    </tr>\n",
       "    <tr>\n",
       "      <th>472</th>\n",
       "      <td>485</td>\n",
       "      <td>TRS</td>\n",
       "      <td>No</td>\n",
       "      <td>Yes</td>\n",
       "      <td>No</td>\n",
       "      <td>No</td>\n",
       "      <td>No</td>\n",
       "      <td>No</td>\n",
       "      <td>No</td>\n",
       "      <td>No</td>\n",
       "      <td>No</td>\n",
       "      <td>Yes</td>\n",
       "      <td>No</td>\n",
       "      <td>No</td>\n",
       "      <td>No</td>\n",
       "      <td>Yes</td>\n",
       "    </tr>\n",
       "    <tr>\n",
       "      <th>473</th>\n",
       "      <td>486</td>\n",
       "      <td>INC</td>\n",
       "      <td>No</td>\n",
       "      <td>Yes</td>\n",
       "      <td>No</td>\n",
       "      <td>No</td>\n",
       "      <td>No</td>\n",
       "      <td>No</td>\n",
       "      <td>No</td>\n",
       "      <td>No</td>\n",
       "      <td>No</td>\n",
       "      <td>Yes</td>\n",
       "      <td>No</td>\n",
       "      <td>No</td>\n",
       "      <td>No</td>\n",
       "      <td>No</td>\n",
       "    </tr>\n",
       "    <tr>\n",
       "      <th>474</th>\n",
       "      <td>487</td>\n",
       "      <td>BJP</td>\n",
       "      <td>No</td>\n",
       "      <td>Yes</td>\n",
       "      <td>No</td>\n",
       "      <td>No</td>\n",
       "      <td>No</td>\n",
       "      <td>No</td>\n",
       "      <td>No</td>\n",
       "      <td>No</td>\n",
       "      <td>Yes</td>\n",
       "      <td>Yes</td>\n",
       "      <td>No</td>\n",
       "      <td>No</td>\n",
       "      <td>No</td>\n",
       "      <td>No</td>\n",
       "    </tr>\n",
       "    <tr>\n",
       "      <th>475</th>\n",
       "      <td>488</td>\n",
       "      <td>INC</td>\n",
       "      <td>No</td>\n",
       "      <td>Yes</td>\n",
       "      <td>No</td>\n",
       "      <td>No</td>\n",
       "      <td>No</td>\n",
       "      <td>No</td>\n",
       "      <td>No</td>\n",
       "      <td>No</td>\n",
       "      <td>Yes</td>\n",
       "      <td>No</td>\n",
       "      <td>No</td>\n",
       "      <td>No</td>\n",
       "      <td>No</td>\n",
       "      <td>No</td>\n",
       "    </tr>\n",
       "    <tr>\n",
       "      <th>476</th>\n",
       "      <td>489</td>\n",
       "      <td>INC</td>\n",
       "      <td>No</td>\n",
       "      <td>Yes</td>\n",
       "      <td>No</td>\n",
       "      <td>No</td>\n",
       "      <td>No</td>\n",
       "      <td>No</td>\n",
       "      <td>No</td>\n",
       "      <td>No</td>\n",
       "      <td>No</td>\n",
       "      <td>Yes</td>\n",
       "      <td>No</td>\n",
       "      <td>No</td>\n",
       "      <td>No</td>\n",
       "      <td>No</td>\n",
       "    </tr>\n",
       "  </tbody>\n",
       "</table>\n",
       "<p>477 rows × 16 columns</p>\n",
       "</div>"
      ],
      "text/plain": [
       "     _id party_in_power cow_related_violence caste_related_violence  \\\n",
       "0      1            BJP                   No                    Yes   \n",
       "1      2            BJP                   No                    Yes   \n",
       "2      3             SP                   No                    Yes   \n",
       "3      4             SP                   No                    Yes   \n",
       "4      5            BJD                   No                    Yes   \n",
       "..   ...            ...                  ...                    ...   \n",
       "472  485            TRS                   No                    Yes   \n",
       "473  486            INC                   No                    Yes   \n",
       "474  487            BJP                   No                    Yes   \n",
       "475  488            INC                   No                    Yes   \n",
       "476  489            INC                   No                    Yes   \n",
       "\n",
       "    religion_related_violence gender_related_violence honour_killings  \\\n",
       "0                          No                     Yes              No   \n",
       "1                          No                      No              No   \n",
       "2                         Yes                      No              No   \n",
       "3                          No                     Yes              No   \n",
       "4                          No                     Yes              No   \n",
       "..                        ...                     ...             ...   \n",
       "472                        No                      No              No   \n",
       "473                        No                      No              No   \n",
       "474                        No                      No              No   \n",
       "475                        No                      No              No   \n",
       "476                        No                      No              No   \n",
       "\n",
       "    love_jihad violence_against_adivasis other harassment assault killing  \\\n",
       "0           No                        No    No         No      No      No   \n",
       "1           No                        No    No         No      No     Yes   \n",
       "2           No                        No    No         No     Yes      No   \n",
       "3           No                        No    No         No      No      No   \n",
       "4           No                        No    No         No      No      No   \n",
       "..         ...                       ...   ...        ...     ...     ...   \n",
       "472         No                        No    No         No     Yes      No   \n",
       "473         No                        No    No         No     Yes      No   \n",
       "474         No                        No    No        Yes     Yes      No   \n",
       "475         No                        No    No        Yes      No      No   \n",
       "476         No                        No    No         No     Yes      No   \n",
       "\n",
       "    rape sexual_harassment property_damage  \n",
       "0    Yes                No              No  \n",
       "1     No                No              No  \n",
       "2     No                No              No  \n",
       "3     No               Yes              No  \n",
       "4     No               Yes              No  \n",
       "..   ...               ...             ...  \n",
       "472   No                No             Yes  \n",
       "473   No                No              No  \n",
       "474   No                No              No  \n",
       "475   No                No              No  \n",
       "476   No                No              No  \n",
       "\n",
       "[477 rows x 16 columns]"
      ]
     },
     "execution_count": 6,
     "metadata": {},
     "output_type": "execute_result"
    }
   ],
   "source": [
    "incident_table = pd.read_sql_query('SELECT * FROM indiaHateCrimes.incident',connection)\n",
    "incident_table"
   ]
  },
  {
   "cell_type": "code",
   "execution_count": 7,
   "metadata": {},
   "outputs": [
    {
     "data": {
      "text/html": [
       "<div>\n",
       "<style scoped>\n",
       "    .dataframe tbody tr th:only-of-type {\n",
       "        vertical-align: middle;\n",
       "    }\n",
       "\n",
       "    .dataframe tbody tr th {\n",
       "        vertical-align: top;\n",
       "    }\n",
       "\n",
       "    .dataframe thead th {\n",
       "        text-align: right;\n",
       "    }\n",
       "</style>\n",
       "<table border=\"1\" class=\"dataframe\">\n",
       "  <thead>\n",
       "    <tr style=\"text-align: right;\">\n",
       "      <th></th>\n",
       "      <th>_id</th>\n",
       "      <th>complaint</th>\n",
       "      <th>FIR</th>\n",
       "      <th>counter_FIR</th>\n",
       "      <th>charges_filed</th>\n",
       "      <th>court_hearing</th>\n",
       "      <th>convictionOrAcquittal</th>\n",
       "      <th>compensation</th>\n",
       "    </tr>\n",
       "  </thead>\n",
       "  <tbody>\n",
       "    <tr>\n",
       "      <th>0</th>\n",
       "      <td>1</td>\n",
       "      <td>Yes</td>\n",
       "      <td>0</td>\n",
       "      <td>0</td>\n",
       "      <td>0</td>\n",
       "      <td>0</td>\n",
       "      <td>0</td>\n",
       "      <td>0</td>\n",
       "    </tr>\n",
       "    <tr>\n",
       "      <th>1</th>\n",
       "      <td>2</td>\n",
       "      <td>0</td>\n",
       "      <td>0</td>\n",
       "      <td>0</td>\n",
       "      <td>0</td>\n",
       "      <td>0</td>\n",
       "      <td>0</td>\n",
       "      <td>0</td>\n",
       "    </tr>\n",
       "    <tr>\n",
       "      <th>2</th>\n",
       "      <td>3</td>\n",
       "      <td>Yes</td>\n",
       "      <td>0</td>\n",
       "      <td>0</td>\n",
       "      <td>0</td>\n",
       "      <td>0</td>\n",
       "      <td>0</td>\n",
       "      <td>0</td>\n",
       "    </tr>\n",
       "    <tr>\n",
       "      <th>3</th>\n",
       "      <td>4</td>\n",
       "      <td>Yes</td>\n",
       "      <td>Yes, for alleged offenced under the SC/ST (Pre...</td>\n",
       "      <td>0</td>\n",
       "      <td>0</td>\n",
       "      <td>0</td>\n",
       "      <td>0</td>\n",
       "      <td>0</td>\n",
       "    </tr>\n",
       "    <tr>\n",
       "      <th>4</th>\n",
       "      <td>5</td>\n",
       "      <td>Yes</td>\n",
       "      <td>Yes, under Section 376(2)(ii) of IPC, Section ...</td>\n",
       "      <td>0</td>\n",
       "      <td>0</td>\n",
       "      <td>0</td>\n",
       "      <td>0</td>\n",
       "      <td>0</td>\n",
       "    </tr>\n",
       "    <tr>\n",
       "      <th>...</th>\n",
       "      <td>...</td>\n",
       "      <td>...</td>\n",
       "      <td>...</td>\n",
       "      <td>...</td>\n",
       "      <td>...</td>\n",
       "      <td>...</td>\n",
       "      <td>...</td>\n",
       "      <td>...</td>\n",
       "    </tr>\n",
       "    <tr>\n",
       "      <th>472</th>\n",
       "      <td>485</td>\n",
       "      <td>Yes</td>\n",
       "      <td>0</td>\n",
       "      <td>0</td>\n",
       "      <td>0</td>\n",
       "      <td>0</td>\n",
       "      <td>0</td>\n",
       "      <td>0</td>\n",
       "    </tr>\n",
       "    <tr>\n",
       "      <th>473</th>\n",
       "      <td>486</td>\n",
       "      <td>Yes</td>\n",
       "      <td>Yes an FIR has been registred against the accu...</td>\n",
       "      <td>Yes a counter FIR has been registered against ...</td>\n",
       "      <td>0</td>\n",
       "      <td>0</td>\n",
       "      <td>0</td>\n",
       "      <td>0</td>\n",
       "    </tr>\n",
       "    <tr>\n",
       "      <th>474</th>\n",
       "      <td>487</td>\n",
       "      <td>0</td>\n",
       "      <td>0</td>\n",
       "      <td>0</td>\n",
       "      <td>0</td>\n",
       "      <td>0</td>\n",
       "      <td>0</td>\n",
       "      <td>0</td>\n",
       "    </tr>\n",
       "    <tr>\n",
       "      <th>475</th>\n",
       "      <td>488</td>\n",
       "      <td>Yes</td>\n",
       "      <td>0</td>\n",
       "      <td>0</td>\n",
       "      <td>0</td>\n",
       "      <td>0</td>\n",
       "      <td>0</td>\n",
       "      <td>0</td>\n",
       "    </tr>\n",
       "    <tr>\n",
       "      <th>476</th>\n",
       "      <td>489</td>\n",
       "      <td>0</td>\n",
       "      <td>0</td>\n",
       "      <td>0</td>\n",
       "      <td>0</td>\n",
       "      <td>0</td>\n",
       "      <td>0</td>\n",
       "      <td>0</td>\n",
       "    </tr>\n",
       "  </tbody>\n",
       "</table>\n",
       "<p>477 rows × 8 columns</p>\n",
       "</div>"
      ],
      "text/plain": [
       "     _id complaint                                                FIR  \\\n",
       "0      1       Yes                                                  0   \n",
       "1      2         0                                                  0   \n",
       "2      3       Yes                                                  0   \n",
       "3      4       Yes  Yes, for alleged offenced under the SC/ST (Pre...   \n",
       "4      5       Yes  Yes, under Section 376(2)(ii) of IPC, Section ...   \n",
       "..   ...       ...                                                ...   \n",
       "472  485       Yes                                                  0   \n",
       "473  486       Yes  Yes an FIR has been registred against the accu...   \n",
       "474  487         0                                                  0   \n",
       "475  488       Yes                                                  0   \n",
       "476  489         0                                                  0   \n",
       "\n",
       "                                           counter_FIR  charges_filed  \\\n",
       "0                                                    0              0   \n",
       "1                                                    0              0   \n",
       "2                                                    0              0   \n",
       "3                                                    0              0   \n",
       "4                                                    0              0   \n",
       "..                                                 ...            ...   \n",
       "472                                                  0              0   \n",
       "473  Yes a counter FIR has been registered against ...              0   \n",
       "474                                                  0              0   \n",
       "475                                                  0              0   \n",
       "476                                                  0              0   \n",
       "\n",
       "     court_hearing  convictionOrAcquittal  compensation  \n",
       "0                0                      0             0  \n",
       "1                0                      0             0  \n",
       "2                0                      0             0  \n",
       "3                0                      0             0  \n",
       "4                0                      0             0  \n",
       "..             ...                    ...           ...  \n",
       "472              0                      0             0  \n",
       "473              0                      0             0  \n",
       "474              0                      0             0  \n",
       "475              0                      0             0  \n",
       "476              0                      0             0  \n",
       "\n",
       "[477 rows x 8 columns]"
      ]
     },
     "execution_count": 7,
     "metadata": {},
     "output_type": "execute_result"
    }
   ],
   "source": [
    "legal_table = pd.read_sql_query('SELECT * FROM indiaHateCrimes.legal',connection)\n",
    "# rename columns because there was a spelling error in previous column names.\n",
    "names = ['_id','complaint','FIR','counter_FIR','charges_filed','court_hearing','convictionOrAcquittal','compensation']\n",
    "legal_table.columns = names\n",
    "\n",
    "legal_table"
   ]
  },
  {
   "cell_type": "code",
   "execution_count": 8,
   "metadata": {},
   "outputs": [
    {
     "data": {
      "text/html": [
       "<div>\n",
       "<style scoped>\n",
       "    .dataframe tbody tr th:only-of-type {\n",
       "        vertical-align: middle;\n",
       "    }\n",
       "\n",
       "    .dataframe tbody tr th {\n",
       "        vertical-align: top;\n",
       "    }\n",
       "\n",
       "    .dataframe thead th {\n",
       "        text-align: right;\n",
       "    }\n",
       "</style>\n",
       "<table border=\"1\" class=\"dataframe\">\n",
       "  <thead>\n",
       "    <tr style=\"text-align: right;\">\n",
       "      <th></th>\n",
       "      <th>_id</th>\n",
       "      <th>city</th>\n",
       "      <th>district</th>\n",
       "      <th>state</th>\n",
       "      <th>latitude</th>\n",
       "      <th>longitude</th>\n",
       "    </tr>\n",
       "  </thead>\n",
       "  <tbody>\n",
       "    <tr>\n",
       "      <th>0</th>\n",
       "      <td>1</td>\n",
       "      <td>Amreli</td>\n",
       "      <td>Amreli</td>\n",
       "      <td>Gujarat</td>\n",
       "      <td>21.603177</td>\n",
       "      <td>71.222083</td>\n",
       "    </tr>\n",
       "    <tr>\n",
       "      <th>1</th>\n",
       "      <td>2</td>\n",
       "      <td>Shivpuri</td>\n",
       "      <td>Shivpuri</td>\n",
       "      <td>Madhya Pradesh</td>\n",
       "      <td>25.435787</td>\n",
       "      <td>77.665066</td>\n",
       "    </tr>\n",
       "    <tr>\n",
       "      <th>2</th>\n",
       "      <td>3</td>\n",
       "      <td>Kataka</td>\n",
       "      <td>Muzaffarnagar</td>\n",
       "      <td>Uttar Pradesh</td>\n",
       "      <td>20.462521</td>\n",
       "      <td>85.882989</td>\n",
       "    </tr>\n",
       "    <tr>\n",
       "      <th>3</th>\n",
       "      <td>4</td>\n",
       "      <td>Khatoli</td>\n",
       "      <td>Muzaffarnagar</td>\n",
       "      <td>Uttar Pradesh</td>\n",
       "      <td>25.681659</td>\n",
       "      <td>76.475898</td>\n",
       "    </tr>\n",
       "    <tr>\n",
       "      <th>4</th>\n",
       "      <td>5</td>\n",
       "      <td>Iswarpur</td>\n",
       "      <td>Baleswar</td>\n",
       "      <td>Odisha</td>\n",
       "      <td>22.052155</td>\n",
       "      <td>87.733883</td>\n",
       "    </tr>\n",
       "    <tr>\n",
       "      <th>...</th>\n",
       "      <td>...</td>\n",
       "      <td>...</td>\n",
       "      <td>...</td>\n",
       "      <td>...</td>\n",
       "      <td>...</td>\n",
       "      <td>...</td>\n",
       "    </tr>\n",
       "    <tr>\n",
       "      <th>472</th>\n",
       "      <td>485</td>\n",
       "      <td>Warangal</td>\n",
       "      <td>Warangal</td>\n",
       "      <td>Telangana</td>\n",
       "      <td>17.968901</td>\n",
       "      <td>79.594054</td>\n",
       "    </tr>\n",
       "    <tr>\n",
       "      <th>473</th>\n",
       "      <td>486</td>\n",
       "      <td>Sangrur</td>\n",
       "      <td>Sangrur</td>\n",
       "      <td>Punjab</td>\n",
       "      <td>30.245796</td>\n",
       "      <td>75.842072</td>\n",
       "    </tr>\n",
       "    <tr>\n",
       "      <th>474</th>\n",
       "      <td>487</td>\n",
       "      <td>Muzaffarnagar</td>\n",
       "      <td>Muzaffarnagar</td>\n",
       "      <td>Uttar Pradesh</td>\n",
       "      <td>29.472682</td>\n",
       "      <td>77.708509</td>\n",
       "    </tr>\n",
       "    <tr>\n",
       "      <th>475</th>\n",
       "      <td>488</td>\n",
       "      <td>Channur</td>\n",
       "      <td>Gulbarga</td>\n",
       "      <td>Karnataka</td>\n",
       "      <td>17.329700</td>\n",
       "      <td>76.834300</td>\n",
       "    </tr>\n",
       "    <tr>\n",
       "      <th>476</th>\n",
       "      <td>489</td>\n",
       "      <td>Bhullar</td>\n",
       "      <td>Batala</td>\n",
       "      <td>Punjab</td>\n",
       "      <td>31.006300</td>\n",
       "      <td>75.651000</td>\n",
       "    </tr>\n",
       "  </tbody>\n",
       "</table>\n",
       "<p>477 rows × 6 columns</p>\n",
       "</div>"
      ],
      "text/plain": [
       "     _id           city       district           state   latitude  longitude\n",
       "0      1         Amreli         Amreli         Gujarat  21.603177  71.222083\n",
       "1      2       Shivpuri       Shivpuri  Madhya Pradesh  25.435787  77.665066\n",
       "2      3         Kataka  Muzaffarnagar   Uttar Pradesh  20.462521  85.882989\n",
       "3      4        Khatoli  Muzaffarnagar   Uttar Pradesh  25.681659  76.475898\n",
       "4      5       Iswarpur       Baleswar          Odisha  22.052155  87.733883\n",
       "..   ...            ...            ...             ...        ...        ...\n",
       "472  485       Warangal       Warangal       Telangana  17.968901  79.594054\n",
       "473  486        Sangrur        Sangrur          Punjab  30.245796  75.842072\n",
       "474  487  Muzaffarnagar  Muzaffarnagar   Uttar Pradesh  29.472682  77.708509\n",
       "475  488        Channur       Gulbarga       Karnataka  17.329700  76.834300\n",
       "476  489        Bhullar         Batala          Punjab  31.006300  75.651000\n",
       "\n",
       "[477 rows x 6 columns]"
      ]
     },
     "execution_count": 8,
     "metadata": {},
     "output_type": "execute_result"
    }
   ],
   "source": [
    "location_table = pd.read_sql_query('SELECT * FROM indiaHateCrimes.location',connection)\n",
    "location_table"
   ]
  },
  {
   "cell_type": "code",
   "execution_count": 9,
   "metadata": {},
   "outputs": [
    {
     "data": {
      "text/html": [
       "<div>\n",
       "<style scoped>\n",
       "    .dataframe tbody tr th:only-of-type {\n",
       "        vertical-align: middle;\n",
       "    }\n",
       "\n",
       "    .dataframe tbody tr th {\n",
       "        vertical-align: top;\n",
       "    }\n",
       "\n",
       "    .dataframe thead th {\n",
       "        text-align: right;\n",
       "    }\n",
       "</style>\n",
       "<table border=\"1\" class=\"dataframe\">\n",
       "  <thead>\n",
       "    <tr style=\"text-align: right;\">\n",
       "      <th></th>\n",
       "      <th>_id</th>\n",
       "      <th>yy</th>\n",
       "      <th>Date</th>\n",
       "      <th>Month of Incident</th>\n",
       "      <th>Headline</th>\n",
       "      <th>links_to_publication</th>\n",
       "    </tr>\n",
       "  </thead>\n",
       "  <tbody>\n",
       "    <tr>\n",
       "      <th>0</th>\n",
       "      <td>1</td>\n",
       "      <td>2015</td>\n",
       "      <td>25</td>\n",
       "      <td>December</td>\n",
       "      <td>National human rights body seeks report on Dal...</td>\n",
       "      <td>https://goo.gl/ys4TVg</td>\n",
       "    </tr>\n",
       "    <tr>\n",
       "      <th>1</th>\n",
       "      <td>2</td>\n",
       "      <td>2015</td>\n",
       "      <td>2</td>\n",
       "      <td>December</td>\n",
       "      <td>Dalit youth dies in police custody, 2 cops sus...</td>\n",
       "      <td>https://goo.gl/48HHSP</td>\n",
       "    </tr>\n",
       "    <tr>\n",
       "      <th>2</th>\n",
       "      <td>3</td>\n",
       "      <td>2015</td>\n",
       "      <td>2</td>\n",
       "      <td>December</td>\n",
       "      <td>7 hurt in a clash between Dalit and muslim groups</td>\n",
       "      <td>https://goo.gl/xM5j3r</td>\n",
       "    </tr>\n",
       "    <tr>\n",
       "      <th>3</th>\n",
       "      <td>4</td>\n",
       "      <td>2015</td>\n",
       "      <td>5</td>\n",
       "      <td>December</td>\n",
       "      <td>Man arrested for sexually harassing Dalit woman</td>\n",
       "      <td>https://goo.gl/FjtHrn</td>\n",
       "    </tr>\n",
       "    <tr>\n",
       "      <th>4</th>\n",
       "      <td>5</td>\n",
       "      <td>2015</td>\n",
       "      <td>8</td>\n",
       "      <td>December</td>\n",
       "      <td>Teacher held for sexually abusing minor Dalit ...</td>\n",
       "      <td>https://goo.gl/XJFcCc</td>\n",
       "    </tr>\n",
       "    <tr>\n",
       "      <th>...</th>\n",
       "      <td>...</td>\n",
       "      <td>...</td>\n",
       "      <td>...</td>\n",
       "      <td>...</td>\n",
       "      <td>...</td>\n",
       "      <td>...</td>\n",
       "    </tr>\n",
       "    <tr>\n",
       "      <th>472</th>\n",
       "      <td>485</td>\n",
       "      <td>2017</td>\n",
       "      <td>26</td>\n",
       "      <td>September</td>\n",
       "      <td>Dalit activist Kancha Ilaiah escapes attack</td>\n",
       "      <td>https://goo.gl/bHbkPd</td>\n",
       "    </tr>\n",
       "    <tr>\n",
       "      <th>473</th>\n",
       "      <td>486</td>\n",
       "      <td>2017</td>\n",
       "      <td>19</td>\n",
       "      <td>September</td>\n",
       "      <td>Dalit women accuse upper-caste men of thrashin...</td>\n",
       "      <td>https://goo.gl/QQT4YJ</td>\n",
       "    </tr>\n",
       "    <tr>\n",
       "      <th>474</th>\n",
       "      <td>487</td>\n",
       "      <td>2017</td>\n",
       "      <td>10</td>\n",
       "      <td>September</td>\n",
       "      <td>Dalits flee homes after Thakurs threaten them</td>\n",
       "      <td>https://goo.gl/DBjHSg</td>\n",
       "    </tr>\n",
       "    <tr>\n",
       "      <th>475</th>\n",
       "      <td>488</td>\n",
       "      <td>2017</td>\n",
       "      <td>5</td>\n",
       "      <td>September</td>\n",
       "      <td>Water in well used by Dalits, poisoned</td>\n",
       "      <td>https://goo.gl/NxPDwn</td>\n",
       "    </tr>\n",
       "    <tr>\n",
       "      <th>476</th>\n",
       "      <td>489</td>\n",
       "      <td>2017</td>\n",
       "      <td>15</td>\n",
       "      <td>September</td>\n",
       "      <td>Dalit man tied to tree, thrashed by landlord f...</td>\n",
       "      <td>https://goo.gl/yev1Xg</td>\n",
       "    </tr>\n",
       "  </tbody>\n",
       "</table>\n",
       "<p>477 rows × 6 columns</p>\n",
       "</div>"
      ],
      "text/plain": [
       "     _id    yy  Date Month of Incident  \\\n",
       "0      1  2015    25          December   \n",
       "1      2  2015     2          December   \n",
       "2      3  2015     2          December   \n",
       "3      4  2015     5          December   \n",
       "4      5  2015     8          December   \n",
       "..   ...   ...   ...               ...   \n",
       "472  485  2017    26         September   \n",
       "473  486  2017    19         September   \n",
       "474  487  2017    10         September   \n",
       "475  488  2017     5         September   \n",
       "476  489  2017    15         September   \n",
       "\n",
       "                                              Headline   links_to_publication  \n",
       "0    National human rights body seeks report on Dal...  https://goo.gl/ys4TVg  \n",
       "1    Dalit youth dies in police custody, 2 cops sus...  https://goo.gl/48HHSP  \n",
       "2    7 hurt in a clash between Dalit and muslim groups  https://goo.gl/xM5j3r  \n",
       "3      Man arrested for sexually harassing Dalit woman  https://goo.gl/FjtHrn  \n",
       "4    Teacher held for sexually abusing minor Dalit ...  https://goo.gl/XJFcCc  \n",
       "..                                                 ...                    ...  \n",
       "472        Dalit activist Kancha Ilaiah escapes attack  https://goo.gl/bHbkPd  \n",
       "473  Dalit women accuse upper-caste men of thrashin...  https://goo.gl/QQT4YJ  \n",
       "474      Dalits flee homes after Thakurs threaten them  https://goo.gl/DBjHSg  \n",
       "475             Water in well used by Dalits, poisoned  https://goo.gl/NxPDwn  \n",
       "476  Dalit man tied to tree, thrashed by landlord f...  https://goo.gl/yev1Xg  \n",
       "\n",
       "[477 rows x 6 columns]"
      ]
     },
     "execution_count": 9,
     "metadata": {},
     "output_type": "execute_result"
    }
   ],
   "source": [
    "media_table = pd.read_sql_query('SELECT * FROM indiaHateCrimes.media',connection)\n",
    "#media_table = media_table.style.hide_index()\n",
    "media_table"
   ]
  },
  {
   "cell_type": "code",
   "execution_count": 10,
   "metadata": {},
   "outputs": [
    {
     "data": {
      "text/html": [
       "<div>\n",
       "<style scoped>\n",
       "    .dataframe tbody tr th:only-of-type {\n",
       "        vertical-align: middle;\n",
       "    }\n",
       "\n",
       "    .dataframe tbody tr th {\n",
       "        vertical-align: top;\n",
       "    }\n",
       "\n",
       "    .dataframe thead th {\n",
       "        text-align: right;\n",
       "    }\n",
       "</style>\n",
       "<table border=\"1\" class=\"dataframe\">\n",
       "  <thead>\n",
       "    <tr style=\"text-align: right;\">\n",
       "      <th></th>\n",
       "      <th>_id</th>\n",
       "      <th>victim_name</th>\n",
       "      <th>victim_ages</th>\n",
       "      <th>victim_ages2</th>\n",
       "      <th>victim_ages3</th>\n",
       "      <th>victim_ages4</th>\n",
       "      <th>male_no</th>\n",
       "      <th>female_no</th>\n",
       "      <th>others_no</th>\n",
       "      <th>number_of_victims</th>\n",
       "      <th>identity_dalit</th>\n",
       "      <th>identity_muslim</th>\n",
       "      <th>identity_adivasi</th>\n",
       "      <th>identity_transgender</th>\n",
       "      <th>identity_christian</th>\n",
       "      <th>identity_others</th>\n",
       "    </tr>\n",
       "  </thead>\n",
       "  <tbody>\n",
       "    <tr>\n",
       "      <th>0</th>\n",
       "      <td>1</td>\n",
       "      <td>0</td>\n",
       "      <td>18</td>\n",
       "      <td>0</td>\n",
       "      <td>0</td>\n",
       "      <td>0</td>\n",
       "      <td>0</td>\n",
       "      <td>1</td>\n",
       "      <td>0</td>\n",
       "      <td>1</td>\n",
       "      <td>Yes</td>\n",
       "      <td>No</td>\n",
       "      <td>No</td>\n",
       "      <td>No</td>\n",
       "      <td>No</td>\n",
       "      <td>No</td>\n",
       "    </tr>\n",
       "    <tr>\n",
       "      <th>1</th>\n",
       "      <td>2</td>\n",
       "      <td>Kamal Vanshkar</td>\n",
       "      <td>19</td>\n",
       "      <td>0</td>\n",
       "      <td>0</td>\n",
       "      <td>0</td>\n",
       "      <td>1</td>\n",
       "      <td>0</td>\n",
       "      <td>0</td>\n",
       "      <td>1</td>\n",
       "      <td>Yes</td>\n",
       "      <td>No</td>\n",
       "      <td>No</td>\n",
       "      <td>No</td>\n",
       "      <td>No</td>\n",
       "      <td>No</td>\n",
       "    </tr>\n",
       "    <tr>\n",
       "      <th>2</th>\n",
       "      <td>3</td>\n",
       "      <td>Sanjay, Rahul, Rafique</td>\n",
       "      <td>0</td>\n",
       "      <td>0</td>\n",
       "      <td>0</td>\n",
       "      <td>0</td>\n",
       "      <td>2</td>\n",
       "      <td>0</td>\n",
       "      <td>0</td>\n",
       "      <td>7</td>\n",
       "      <td>Yes</td>\n",
       "      <td>No</td>\n",
       "      <td>No</td>\n",
       "      <td>No</td>\n",
       "      <td>No</td>\n",
       "      <td>No</td>\n",
       "    </tr>\n",
       "    <tr>\n",
       "      <th>3</th>\n",
       "      <td>4</td>\n",
       "      <td>0</td>\n",
       "      <td>30</td>\n",
       "      <td>0</td>\n",
       "      <td>0</td>\n",
       "      <td>0</td>\n",
       "      <td>0</td>\n",
       "      <td>1</td>\n",
       "      <td>0</td>\n",
       "      <td>1</td>\n",
       "      <td>Yes</td>\n",
       "      <td>No</td>\n",
       "      <td>No</td>\n",
       "      <td>No</td>\n",
       "      <td>No</td>\n",
       "      <td>No</td>\n",
       "    </tr>\n",
       "    <tr>\n",
       "      <th>4</th>\n",
       "      <td>5</td>\n",
       "      <td>0</td>\n",
       "      <td>0</td>\n",
       "      <td>0</td>\n",
       "      <td>0</td>\n",
       "      <td>0</td>\n",
       "      <td>0</td>\n",
       "      <td>1</td>\n",
       "      <td>0</td>\n",
       "      <td>1</td>\n",
       "      <td>Yes</td>\n",
       "      <td>No</td>\n",
       "      <td>No</td>\n",
       "      <td>No</td>\n",
       "      <td>No</td>\n",
       "      <td>No</td>\n",
       "    </tr>\n",
       "    <tr>\n",
       "      <th>...</th>\n",
       "      <td>...</td>\n",
       "      <td>...</td>\n",
       "      <td>...</td>\n",
       "      <td>...</td>\n",
       "      <td>...</td>\n",
       "      <td>...</td>\n",
       "      <td>...</td>\n",
       "      <td>...</td>\n",
       "      <td>...</td>\n",
       "      <td>...</td>\n",
       "      <td>...</td>\n",
       "      <td>...</td>\n",
       "      <td>...</td>\n",
       "      <td>...</td>\n",
       "      <td>...</td>\n",
       "      <td>...</td>\n",
       "    </tr>\n",
       "    <tr>\n",
       "      <th>472</th>\n",
       "      <td>485</td>\n",
       "      <td>Kancha Ilaiah</td>\n",
       "      <td>0</td>\n",
       "      <td>0</td>\n",
       "      <td>0</td>\n",
       "      <td>0</td>\n",
       "      <td>1</td>\n",
       "      <td>0</td>\n",
       "      <td>0</td>\n",
       "      <td>1</td>\n",
       "      <td>Yes</td>\n",
       "      <td>Yes</td>\n",
       "      <td>No</td>\n",
       "      <td>No</td>\n",
       "      <td>No</td>\n",
       "      <td>No</td>\n",
       "    </tr>\n",
       "    <tr>\n",
       "      <th>473</th>\n",
       "      <td>486</td>\n",
       "      <td>0</td>\n",
       "      <td>0</td>\n",
       "      <td>0</td>\n",
       "      <td>0</td>\n",
       "      <td>0</td>\n",
       "      <td>0</td>\n",
       "      <td>4</td>\n",
       "      <td>0</td>\n",
       "      <td>4</td>\n",
       "      <td>Yes</td>\n",
       "      <td>Yes</td>\n",
       "      <td>No</td>\n",
       "      <td>No</td>\n",
       "      <td>No</td>\n",
       "      <td>No</td>\n",
       "    </tr>\n",
       "    <tr>\n",
       "      <th>474</th>\n",
       "      <td>487</td>\n",
       "      <td>0</td>\n",
       "      <td>0</td>\n",
       "      <td>0</td>\n",
       "      <td>0</td>\n",
       "      <td>0</td>\n",
       "      <td>0</td>\n",
       "      <td>0</td>\n",
       "      <td>0</td>\n",
       "      <td>1</td>\n",
       "      <td>Yes</td>\n",
       "      <td>Yes</td>\n",
       "      <td>No</td>\n",
       "      <td>No</td>\n",
       "      <td>No</td>\n",
       "      <td>No</td>\n",
       "    </tr>\n",
       "    <tr>\n",
       "      <th>475</th>\n",
       "      <td>488</td>\n",
       "      <td>0</td>\n",
       "      <td>0</td>\n",
       "      <td>0</td>\n",
       "      <td>0</td>\n",
       "      <td>0</td>\n",
       "      <td>0</td>\n",
       "      <td>0</td>\n",
       "      <td>0</td>\n",
       "      <td>0</td>\n",
       "      <td>Yes</td>\n",
       "      <td>Yes</td>\n",
       "      <td>No</td>\n",
       "      <td>No</td>\n",
       "      <td>No</td>\n",
       "      <td>No</td>\n",
       "    </tr>\n",
       "    <tr>\n",
       "      <th>476</th>\n",
       "      <td>489</td>\n",
       "      <td>Tikka Masih</td>\n",
       "      <td>30</td>\n",
       "      <td>0</td>\n",
       "      <td>0</td>\n",
       "      <td>0</td>\n",
       "      <td>1</td>\n",
       "      <td>0</td>\n",
       "      <td>0</td>\n",
       "      <td>1</td>\n",
       "      <td>Yes</td>\n",
       "      <td>Yes</td>\n",
       "      <td>No</td>\n",
       "      <td>No</td>\n",
       "      <td>No</td>\n",
       "      <td>No</td>\n",
       "    </tr>\n",
       "  </tbody>\n",
       "</table>\n",
       "<p>477 rows × 16 columns</p>\n",
       "</div>"
      ],
      "text/plain": [
       "     _id             victim_name  victim_ages  victim_ages2  victim_ages3  \\\n",
       "0      1                       0           18             0             0   \n",
       "1      2          Kamal Vanshkar           19             0             0   \n",
       "2      3  Sanjay, Rahul, Rafique            0             0             0   \n",
       "3      4                       0           30             0             0   \n",
       "4      5                       0            0             0             0   \n",
       "..   ...                     ...          ...           ...           ...   \n",
       "472  485           Kancha Ilaiah            0             0             0   \n",
       "473  486                       0            0             0             0   \n",
       "474  487                       0            0             0             0   \n",
       "475  488                       0            0             0             0   \n",
       "476  489             Tikka Masih           30             0             0   \n",
       "\n",
       "     victim_ages4  male_no  female_no  others_no  number_of_victims  \\\n",
       "0               0        0          1          0                  1   \n",
       "1               0        1          0          0                  1   \n",
       "2               0        2          0          0                  7   \n",
       "3               0        0          1          0                  1   \n",
       "4               0        0          1          0                  1   \n",
       "..            ...      ...        ...        ...                ...   \n",
       "472             0        1          0          0                  1   \n",
       "473             0        0          4          0                  4   \n",
       "474             0        0          0          0                  1   \n",
       "475             0        0          0          0                  0   \n",
       "476             0        1          0          0                  1   \n",
       "\n",
       "    identity_dalit identity_muslim identity_adivasi identity_transgender  \\\n",
       "0              Yes              No               No                   No   \n",
       "1              Yes              No               No                   No   \n",
       "2              Yes              No               No                   No   \n",
       "3              Yes              No               No                   No   \n",
       "4              Yes              No               No                   No   \n",
       "..             ...             ...              ...                  ...   \n",
       "472            Yes             Yes               No                   No   \n",
       "473            Yes             Yes               No                   No   \n",
       "474            Yes             Yes               No                   No   \n",
       "475            Yes             Yes               No                   No   \n",
       "476            Yes             Yes               No                   No   \n",
       "\n",
       "    identity_christian identity_others  \n",
       "0                   No              No  \n",
       "1                   No              No  \n",
       "2                   No              No  \n",
       "3                   No              No  \n",
       "4                   No              No  \n",
       "..                 ...             ...  \n",
       "472                 No              No  \n",
       "473                 No              No  \n",
       "474                 No              No  \n",
       "475                 No              No  \n",
       "476                 No              No  \n",
       "\n",
       "[477 rows x 16 columns]"
      ]
     },
     "execution_count": 10,
     "metadata": {},
     "output_type": "execute_result"
    }
   ],
   "source": [
    "victim_table = pd.read_sql_query('SELECT * FROM indiaHateCrimes.victim',connection)\n",
    "victim_table"
   ]
  },
  {
   "cell_type": "markdown",
   "metadata": {},
   "source": [
    "The victim_table above shows a misalignment between _id's and indeces. 12 records from this table could not be transferred to the SQL database. This means we need to identify these records and exclude them from other tables."
   ]
  },
  {
   "cell_type": "markdown",
   "metadata": {},
   "source": [
    "The below loop finds which records are missing. "
   ]
  },
  {
   "cell_type": "code",
   "execution_count": 11,
   "metadata": {},
   "outputs": [],
   "source": [
    "# Find which records are missing in victim_tables\n",
    "\n",
    "# id_list = victim_table['_id'].to_list()\n",
    "# count=1\n",
    "# for i in id_list:\n",
    "#     if (i) != count+12:\n",
    "#         print(i,count)\n",
    "#     count = count+1\n",
    "\n",
    "# The following records are missing from victim_table:\n",
    "# id = 36, index = 35\n",
    "# id = 81, index = 80\n",
    "# id = 222, index = 221\n",
    "# id = 223, index = 222\n",
    "# id = 226, index = 225\n",
    "# id = 251, index = 250\n",
    "# id = 253, index = 252\n",
    "# id = 312, index = 311\n",
    "# id = 313, index = 312\n",
    "# id = 328, index = 327\n",
    "# id = 413, index = 412\n",
    "# id = 424, index = 423"
   ]
  },
  {
   "cell_type": "markdown",
   "metadata": {},
   "source": [
    "I used the below lines to check which indeces correspond to the above id's in other tables"
   ]
  },
  {
   "cell_type": "code",
   "execution_count": 12,
   "metadata": {},
   "outputs": [],
   "source": [
    "# Check record _id's and corresponding indeces\n",
    "# row_36_location = location_table.iloc[311,:]\n",
    "# row_36_location"
   ]
  },
  {
   "cell_type": "markdown",
   "metadata": {},
   "source": [
    "Now we can drop the identified records from other tables in Jupyter Notebook and in our SQL DB"
   ]
  },
  {
   "cell_type": "code",
   "execution_count": 13,
   "metadata": {},
   "outputs": [],
   "source": [
    "# Drop records that aren't in victim_table from all other tables\n",
    "victim_table = victim_table.drop(index=[35,80,221,222,225,250,252,311,312,327,412,423], axis=0)\n",
    "location_table = location_table.drop(index=[35,80,221,222,225,250,252,311,312,327,412,423], axis=0)\n",
    "media_table = media_table.drop(index=[35,80,221,222,225,250,252,311,312,327,412,423], axis=0)\n",
    "legal_table = legal_table.drop(index=[35,80,221,222,225,250,252,311,312,327,412,423], axis=0)\n",
    "incident_table = incident_table.drop(index=[35,80,221,222,225,250,252,311,312,327,412,423], axis=0)"
   ]
  },
  {
   "cell_type": "code",
   "execution_count": 14,
   "metadata": {},
   "outputs": [
    {
     "name": "stdout",
     "output_type": "stream",
     "text": [
      "Drop from SQL Victim table:\n",
      "0  Records Deleted successfully\n",
      "\n",
      "Drop from SQL Location table:\n",
      "0  Records Deleted successfully\n",
      "\n",
      "Drop from SQL Media table:\n",
      "0  Records Deleted successfully\n",
      "\n",
      "Drop from SQL Legal table:\n",
      "0  Records Deleted successfully\n",
      "\n",
      "Drop from SQL Incident table:\n",
      "0  Records Deleted successfully\n"
     ]
    }
   ],
   "source": [
    "# Drop records from SQL victim table\n",
    "print(\"Drop from SQL Victim table:\")\n",
    "try:\n",
    "    sql_delete_query = \"DELETE FROM indiaHateCrimes.victim WHERE _id = %s\"\n",
    "    records_to_delete = [(36,), (81,),(222,),(223,),(226,),(251,),(253,),(312,),(313,),(328,),(413,),(424,)]\n",
    "    cursor.executemany(sql_delete_query, records_to_delete)\n",
    "    connection.commit()\n",
    "    print(cursor.rowcount, \" Records Deleted successfully\")\n",
    "\n",
    "except mysql.connector.Error as error:\n",
    "    print(\"Failed to Delete records from MySQL table: {}\".format(error))\n",
    "\n",
    "print()\n",
    "# Drop records from SQL location table\n",
    "print(\"Drop from SQL Location table:\")\n",
    "try:\n",
    "    sql_delete_query = \"DELETE FROM indiaHateCrimes.location WHERE _id = %s\"\n",
    "    records_to_delete = [(36,), (81,),(222,),(223,),(226,),(251,),(253,),(312,),(313,),(328,),(413,),(424,)]\n",
    "    cursor.executemany(sql_delete_query, records_to_delete)\n",
    "    connection.commit()\n",
    "    print(cursor.rowcount, \" Records Deleted successfully\")\n",
    "\n",
    "except mysql.connector.Error as error:\n",
    "    print(\"Failed to Delete records from MySQL table: {}\".format(error))\n",
    "\n",
    "print()\n",
    "# Drop records from SQL media table\n",
    "print(\"Drop from SQL Media table:\")\n",
    "try:\n",
    "    sql_delete_query = \"DELETE FROM indiaHateCrimes.media WHERE _id = %s\"\n",
    "    records_to_delete = [(36,), (81,),(222,),(223,),(226,),(251,),(253,),(312,),(313,),(328,),(413,),(424,)]\n",
    "    cursor.executemany(sql_delete_query, records_to_delete)\n",
    "    connection.commit()\n",
    "    print(cursor.rowcount, \" Records Deleted successfully\")\n",
    "\n",
    "except mysql.connector.Error as error:\n",
    "    print(\"Failed to Delete records from MySQL table: {}\".format(error))\n",
    "\n",
    "print()\n",
    "# Drop records from SQL legal table\n",
    "print(\"Drop from SQL Legal table:\")\n",
    "try:\n",
    "    sql_delete_query = \"DELETE FROM indiaHateCrimes.legal WHERE _id = %s\"\n",
    "    records_to_delete = [(36,), (81,),(222,),(223,),(226,),(251,),(253,),(312,),(313,),(328,),(413,),(424,)]\n",
    "    cursor.executemany(sql_delete_query, records_to_delete)\n",
    "    connection.commit()\n",
    "    print(cursor.rowcount, \" Records Deleted successfully\")\n",
    "\n",
    "except mysql.connector.Error as error:\n",
    "    print(\"Failed to Delete records from MySQL table: {}\".format(error))\n",
    "\n",
    "print()\n",
    "# Drop records from SQL incident table\n",
    "print(\"Drop from SQL Incident table:\")\n",
    "try:\n",
    "    sql_delete_query = \"DELETE FROM indiaHateCrimes.incident WHERE _id = %s\"\n",
    "    records_to_delete = [(36,), (81,),(222,),(223,),(226,),(251,),(253,),(312,),(313,),(328,),(413,),(424,)]\n",
    "    cursor.executemany(sql_delete_query, records_to_delete)\n",
    "    connection.commit()\n",
    "    print(cursor.rowcount, \" Records Deleted successfully\")\n",
    "\n",
    "except mysql.connector.Error as error:\n",
    "    print(\"Failed to Delete records from MySQL table: {}\".format(error))"
   ]
  },
  {
   "cell_type": "markdown",
   "metadata": {},
   "source": [
    "Note that the records were successfully dropped from all tables. The message only says '0' because this program was run multiple times."
   ]
  },
  {
   "cell_type": "markdown",
   "metadata": {},
   "source": [
    "Now that missing records have been handled, we can drop the _id column from tables and use the index instead."
   ]
  },
  {
   "cell_type": "code",
   "execution_count": 15,
   "metadata": {},
   "outputs": [],
   "source": [
    "victim_table = victim_table.drop('_id', axis=1)\n",
    "location_table = location_table.drop('_id', axis=1)\n",
    "media_table = media_table.drop('_id', axis=1)\n",
    "legal_table = legal_table.drop('_id', axis=1)\n",
    "incident_table = incident_table.drop('_id', axis=1)"
   ]
  },
  {
   "cell_type": "markdown",
   "metadata": {},
   "source": [
    "## 3) Summarize & Visualize Data"
   ]
  },
  {
   "cell_type": "markdown",
   "metadata": {},
   "source": [
    "Below is a summary of what each table looks like after cleaning."
   ]
  },
  {
   "cell_type": "code",
   "execution_count": 16,
   "metadata": {
    "scrolled": true
   },
   "outputs": [
    {
     "name": "stdout",
     "output_type": "stream",
     "text": [
      "Victim Data:  (465, 15)\n",
      "Location Data:  (465, 5)\n",
      "Media Data:  (465, 5)\n",
      "Legal Data:  (465, 7)\n",
      "Incident Data:  (465, 15)\n"
     ]
    }
   ],
   "source": [
    "print(\"Victim Data: \",victim_table.shape)\n",
    "print(\"Location Data: \",location_table.shape)\n",
    "print(\"Media Data: \",media_table.shape)\n",
    "print(\"Legal Data: \",legal_table.shape)\n",
    "print(\"Incident Data: \",incident_table.shape)"
   ]
  },
  {
   "cell_type": "markdown",
   "metadata": {},
   "source": [
    "To map identity-specific hate crimes, we'll need to create dataframes for each identity's experienced hate crimes."
   ]
  },
  {
   "cell_type": "code",
   "execution_count": 17,
   "metadata": {},
   "outputs": [],
   "source": [
    "dalit_hate_crimes = victim_table[victim_table['identity_dalit'] == 'Yes']\n",
    "muslim_hate_crimes = victim_table[victim_table['identity_muslim'] == 'Yes']\n",
    "adivasi_hate_crimes = victim_table[victim_table['identity_adivasi'] == 'Yes']\n",
    "trans_hate_crimes = victim_table[victim_table['identity_transgender'] == 'Yes']\n",
    "christian_hate_crimes = victim_table[victim_table['identity_christian'] == 'Yes']"
   ]
  },
  {
   "cell_type": "markdown",
   "metadata": {},
   "source": [
    "First we'll map hate crimes against Dalits."
   ]
  },
  {
   "cell_type": "code",
   "execution_count": 18,
   "metadata": {},
   "outputs": [],
   "source": [
    "# Make lists of _id's corresponding to hate crimes against people who identify as Dalit and for the latitudes\n",
    "# and longitudes of those crimes.\n",
    "\n",
    "dalit_id_list = dalit_hate_crimes.index.to_list()\n",
    "dalit_latitudes = []\n",
    "dalit_longitudes = []\n",
    "\n",
    "for i in dalit_id_list:\n",
    "    dalit_latitudes.append(location_table.loc[i]['latitude'])\n",
    "    dalit_longitudes.append(location_table.loc[i]['longitude'])"
   ]
  },
  {
   "cell_type": "code",
   "execution_count": 19,
   "metadata": {},
   "outputs": [],
   "source": [
    "# Create map markers for Dalit hate crimes\n",
    "dalit_markers_list = []\n",
    "\n",
    "for i in range(len(dalit_id_list)):\n",
    "    marker = Marker(location=(dalit_latitudes[i], dalit_longitudes[i]), draggable=False)\n",
    "    dalit_markers_list.append(marker)\n",
    "\n",
    "marker_cluster = MarkerCluster(\n",
    "    markers=(dalit_markers_list)\n",
    ")"
   ]
  },
  {
   "cell_type": "code",
   "execution_count": 20,
   "metadata": {},
   "outputs": [
    {
     "data": {
      "application/vnd.jupyter.widget-view+json": {
       "model_id": "e35faafe7f8f46d2a271b840f3cb68af",
       "version_major": 2,
       "version_minor": 0
      },
      "text/plain": [
       "Map(center=[20.5937, 78.9629], controls=(ZoomControl(options=['position', 'zoom_in_text', 'zoom_in_title', 'zo…"
      ]
     },
     "metadata": {},
     "output_type": "display_data"
    }
   ],
   "source": [
    "# Make a map that shows hate crimes against Dalit People per state\n",
    "# Figure out how to stylize it\n",
    "# Can you divide regions by state instead of random?\n",
    "# all markers should look the same, the circle + numbers are a nice -- should we make them all one color?\n",
    "center = (20.5937, 78.9629)\n",
    "\n",
    "dalit_map = Map(basemap=basemaps.OpenStreetMap.Mapnik, center=center, zoom=5)\n",
    "\n",
    "dalit_map.add_layer(marker_cluster);\n",
    "\n",
    "display(dalit_map)"
   ]
  },
  {
   "cell_type": "code",
   "execution_count": 21,
   "metadata": {},
   "outputs": [],
   "source": [
    "# Let's find some other general stats about Dalit hate crimes.\n"
   ]
  },
  {
   "cell_type": "markdown",
   "metadata": {},
   "source": [
    "Now, we'll map hate crimes against Muslims."
   ]
  },
  {
   "cell_type": "code",
   "execution_count": 22,
   "metadata": {},
   "outputs": [],
   "source": [
    "# Make lists of _id's corresponding to hate crimes against people who identify as Muslim and for the latitudes\n",
    "# and longitudes of those crimes.\n",
    "\n",
    "muslim_id_list = muslim_hate_crimes.index.to_list()\n",
    "muslim_latitudes = []\n",
    "muslim_longitudes = []\n",
    "\n",
    "for i in muslim_id_list:\n",
    "    muslim_latitudes.append(location_table.loc[i]['latitude'])\n",
    "    muslim_longitudes.append(location_table.loc[i]['longitude'])"
   ]
  },
  {
   "cell_type": "code",
   "execution_count": 23,
   "metadata": {},
   "outputs": [],
   "source": [
    "# Create map markers for Muslim hate crimes\n",
    "muslim_markers_list = []\n",
    "\n",
    "for i in range(len(muslim_id_list)):\n",
    "    marker = Marker(location=(muslim_latitudes[i], muslim_longitudes[i]), draggable=False)\n",
    "    muslim_markers_list.append(marker)\n",
    "\n",
    "marker_cluster = MarkerCluster(\n",
    "    markers=(muslim_markers_list)\n",
    ")"
   ]
  },
  {
   "cell_type": "code",
   "execution_count": 24,
   "metadata": {},
   "outputs": [
    {
     "data": {
      "application/vnd.jupyter.widget-view+json": {
       "model_id": "9b8ebdf4baed4b38971fdd73a150708e",
       "version_major": 2,
       "version_minor": 0
      },
      "text/plain": [
       "Map(center=[20.5937, 78.9629], controls=(ZoomControl(options=['position', 'zoom_in_text', 'zoom_in_title', 'zo…"
      ]
     },
     "metadata": {},
     "output_type": "display_data"
    }
   ],
   "source": [
    "# Make a map that shows hate crimes against Muslim people per state\n",
    "center = (20.5937, 78.9629)\n",
    "\n",
    "muslim_map = Map(basemap=basemaps.OpenStreetMap.Mapnik, center=center, zoom=5)\n",
    "\n",
    "muslim_map.add_layer(marker_cluster);\n",
    "\n",
    "display(muslim_map)"
   ]
  },
  {
   "cell_type": "markdown",
   "metadata": {},
   "source": [
    "Next, we'll map hate crimes against Adivasi people."
   ]
  },
  {
   "cell_type": "code",
   "execution_count": 25,
   "metadata": {},
   "outputs": [],
   "source": [
    "# Make lists of _id's corresponding to hate crimes against people who identify as Adivasi and for the latitudes\n",
    "# and longitudes of those crimes.\n",
    "\n",
    "adivasi_id_list = adivasi_hate_crimes.index.to_list()\n",
    "adivasi_latitudes = []\n",
    "adivasi_longitudes = []\n",
    "\n",
    "for i in adivasi_id_list:\n",
    "    adivasi_latitudes.append(location_table.loc[i]['latitude'])\n",
    "    adivasi_longitudes.append(location_table.loc[i]['longitude'])"
   ]
  },
  {
   "cell_type": "code",
   "execution_count": 26,
   "metadata": {},
   "outputs": [],
   "source": [
    "# Create map markers for Adivasi hate crimes\n",
    "adivasi_markers_list = []\n",
    "\n",
    "for i in range(len(adivasi_id_list)):\n",
    "    marker = Marker(location=(adivasi_latitudes[i], adivasi_longitudes[i]), draggable=False)\n",
    "    adivasi_markers_list.append(marker)\n",
    "\n",
    "marker_cluster = MarkerCluster(\n",
    "    markers=(adivasi_markers_list)\n",
    ")"
   ]
  },
  {
   "cell_type": "code",
   "execution_count": 27,
   "metadata": {},
   "outputs": [
    {
     "data": {
      "application/vnd.jupyter.widget-view+json": {
       "model_id": "7f0b236a55ac43338fb009f25fda2228",
       "version_major": 2,
       "version_minor": 0
      },
      "text/plain": [
       "Map(center=[20.5937, 78.9629], controls=(ZoomControl(options=['position', 'zoom_in_text', 'zoom_in_title', 'zo…"
      ]
     },
     "metadata": {},
     "output_type": "display_data"
    }
   ],
   "source": [
    "# Make a map that shows hate crimes against Adivasi people per state\n",
    "center = (20.5937, 78.9629)\n",
    "\n",
    "adivasi_map = Map(basemap=basemaps.OpenStreetMap.Mapnik, center=center, zoom=5)\n",
    "\n",
    "adivasi_map.add_layer(marker_cluster);\n",
    "\n",
    "display(adivasi_map)"
   ]
  },
  {
   "cell_type": "markdown",
   "metadata": {},
   "source": [
    "We'll also map hate crimes against transgender people."
   ]
  },
  {
   "cell_type": "code",
   "execution_count": 28,
   "metadata": {},
   "outputs": [],
   "source": [
    "# Make lists of _id's corresponding to hate crimes against people who identify as transgender and for the latitudes\n",
    "# and longitudes of those crimes.\n",
    "\n",
    "trans_id_list = trans_hate_crimes.index.to_list()\n",
    "trans_latitudes = []\n",
    "trans_longitudes = []\n",
    "\n",
    "for i in trans_id_list:\n",
    "    trans_latitudes.append(location_table.loc[i]['latitude'])\n",
    "    trans_longitudes.append(location_table.loc[i]['longitude'])"
   ]
  },
  {
   "cell_type": "code",
   "execution_count": 29,
   "metadata": {},
   "outputs": [],
   "source": [
    "# Create map markers for transgender hate crimes\n",
    "trans_markers_list = []\n",
    "\n",
    "for i in range(len(trans_id_list)):\n",
    "    marker = Marker(location=(trans_latitudes[i], trans_longitudes[i]), draggable=False)\n",
    "    trans_markers_list.append(marker)\n",
    "\n",
    "marker_cluster = MarkerCluster(\n",
    "    markers=(trans_markers_list)\n",
    ")"
   ]
  },
  {
   "cell_type": "code",
   "execution_count": 30,
   "metadata": {},
   "outputs": [
    {
     "data": {
      "application/vnd.jupyter.widget-view+json": {
       "model_id": "f2bf400521404b44bcac8d62be66c377",
       "version_major": 2,
       "version_minor": 0
      },
      "text/plain": [
       "Map(center=[20.5937, 78.9629], controls=(ZoomControl(options=['position', 'zoom_in_text', 'zoom_in_title', 'zo…"
      ]
     },
     "metadata": {},
     "output_type": "display_data"
    }
   ],
   "source": [
    "# Make a map that shows hate crimes against transgender people per state\n",
    "center = (20.5937, 78.9629)\n",
    "\n",
    "trans_map = Map(basemap=basemaps.OpenStreetMap.Mapnik, center=center, zoom=5)\n",
    "\n",
    "trans_map.add_layer(marker_cluster);\n",
    "\n",
    "display(trans_map)"
   ]
  },
  {
   "cell_type": "markdown",
   "metadata": {},
   "source": [
    "Lastly, we'll map hate crimes against Christian people."
   ]
  },
  {
   "cell_type": "code",
   "execution_count": 31,
   "metadata": {},
   "outputs": [],
   "source": [
    "# Make lists of _id's corresponding to hate crimes against people who identify as Christian and for the latitudes\n",
    "# and longitudes of those crimes.\n",
    "\n",
    "christian_id_list = christian_hate_crimes.index.to_list()\n",
    "christian_latitudes = []\n",
    "christian_longitudes = []\n",
    "\n",
    "for i in christian_id_list:\n",
    "    christian_latitudes.append(location_table.loc[i]['latitude'])\n",
    "    christian_longitudes.append(location_table.loc[i]['longitude'])"
   ]
  },
  {
   "cell_type": "code",
   "execution_count": 32,
   "metadata": {},
   "outputs": [],
   "source": [
    "# Create map markers for Christian hate crimes\n",
    "christian_markers_list = []\n",
    "\n",
    "for i in range(len(christian_id_list)):\n",
    "    marker = Marker(location=(christian_latitudes[i], christian_longitudes[i]), draggable=False)\n",
    "    christian_markers_list.append(marker)\n",
    "\n",
    "marker_cluster = MarkerCluster(\n",
    "    markers=(christian_markers_list)\n",
    ")"
   ]
  },
  {
   "cell_type": "code",
   "execution_count": 33,
   "metadata": {},
   "outputs": [
    {
     "data": {
      "application/vnd.jupyter.widget-view+json": {
       "model_id": "8ced61056c32480bb8c988eb38ba4bbe",
       "version_major": 2,
       "version_minor": 0
      },
      "text/plain": [
       "Map(center=[20.5937, 78.9629], controls=(ZoomControl(options=['position', 'zoom_in_text', 'zoom_in_title', 'zo…"
      ]
     },
     "metadata": {},
     "output_type": "display_data"
    }
   ],
   "source": [
    "# Make a map that shows hate crimes against Christian people per state\n",
    "center = (20.5937, 78.9629)\n",
    "\n",
    "christian_map = Map(basemap=basemaps.OpenStreetMap.Mapnik, center=center, zoom=5)\n",
    "\n",
    "christian_map.add_layer(marker_cluster);\n",
    "\n",
    "display(christian_map)"
   ]
  },
  {
   "cell_type": "code",
   "execution_count": 34,
   "metadata": {},
   "outputs": [],
   "source": [
    "# make a pie chart for overall hate-crime breakdown\n",
    "caste_hate_crimes = incident_table[incident_table['caste_related_violence'] == \"Yes\"]\n",
    "caste_hate_crimes = len(caste_hate_crimes.index.to_list())\n",
    "\n",
    "religion_hate_crimes = incident_table[incident_table['religion_related_violence'] == \"Yes\"]\n",
    "religion_hate_crimes = len(religion_hate_crimes.index.to_list())\n",
    "\n",
    "gender_hate_crimes = incident_table[incident_table['gender_related_violence'] == \"Yes\"]\n",
    "gender_hate_crimes = len(gender_hate_crimes.index.to_list())\n",
    "\n",
    "adivasi_hate_crimes = incident_table[incident_table['violence_against_adivasis'] == \"Yes\"]\n",
    "adivasi_hate_crimes = len(adivasi_hate_crimes.index.to_list())\n",
    "\n",
    "other_hate_crimes = incident_table[incident_table['other'] == \"Yes\"]\n",
    "other_hate_crimes = len(other_hate_crimes.index.to_list())"
   ]
  },
  {
   "cell_type": "code",
   "execution_count": 35,
   "metadata": {},
   "outputs": [],
   "source": [
    "# make a pie chart for legal\n",
    "complaints = legal_table[legal_table['complaint'] == \"Yes\"]\n",
    "complaints = len(complaints.index.to_list())\n",
    "\n",
    "fir = legal_table[legal_table['FIR'] == \"Yes\"]\n",
    "fir = len(fir.index.to_list())\n",
    "\n",
    "counter_fir = legal_table[legal_table['counter_FIR'] == \"Yes\"]\n",
    "counter_fir = len(counter_fir.index.to_list())\n",
    "\n",
    "charges_filed = legal_table[legal_table['charges_filed'] == \"Yes\"]\n",
    "charges_filed = len(charges_filed.index.to_list())\n",
    "\n",
    "court_hearing = legal_table[legal_table['court_hearing'] == \"Yes\"]\n",
    "court_hearing = len(court_hearing.index.to_list())\n",
    "\n",
    "convictionOrAcquittal = legal_table[legal_table['convictionOrAcquittal'] == \"Yes\"]\n",
    "convictionOrAcquittal = len(convictionOrAcquittal.index.to_list())\n",
    "\n",
    "compensation = legal_table[legal_table['compensation'] == \"Yes\"]\n",
    "compensation = len(compensation.index.to_list())\n"
   ]
  },
  {
   "cell_type": "code",
   "execution_count": 36,
   "metadata": {},
   "outputs": [],
   "source": [
    "# make a pie chart for political party responsible for incidents\n",
    "bjp_hate_crimes = incident_table[incident_table['party_in_power'] == \"BJP\"]\n",
    "bjp_hate_crimes = len(bjp_hate_crimes.index.to_list())\n",
    "\n",
    "sp_hate_crimes = incident_table[incident_table['party_in_power'] == \"SP\"]\n",
    "sp_hate_crimes = len(sp_hate_crimes.index.to_list())\n",
    "\n",
    "aap_hate_crimes = incident_table[incident_table['party_in_power'] == \"AAP\"]\n",
    "aap_hate_crimes = len(aap_hate_crimes.index.to_list())\n",
    "\n",
    "inc_hate_crimes = incident_table[incident_table['party_in_power'] == \"INC\"]\n",
    "inc_hate_crimes = len(inc_hate_crimes.index.to_list())\n",
    "\n",
    "jdu_hate_crimes = incident_table[incident_table['party_in_power'] == \"JD(U)+\"]\n",
    "jdu_hate_crimes = len(jdu_hate_crimes.index.to_list())\n",
    "\n",
    "aiadmk_hate_crimes = incident_table[incident_table['party_in_power'] == \"AIADMK\"]\n",
    "aiadmk_hate_crimes = len(aiadmk_hate_crimes.index.to_list())\n",
    "\n",
    "trs_hate_crimes = incident_table[incident_table['party_in_power'] == \"TRS\"]\n",
    "trs_hate_crimes = len(trs_hate_crimes.index.to_list())\n",
    "\n",
    "cpim_hate_crimes = incident_table[incident_table['party_in_power'] == \"CPI(M)+\"]\n",
    "cpim_hate_crimes = len(cpim_hate_crimes.index.to_list())\n",
    "\n",
    "npf_hate_crimes = incident_table[incident_table['party_in_power'] == \"Nagaland People's Front\"]\n",
    "npf_hate_crimes = len(npf_hate_crimes.index.to_list())\n",
    "\n",
    "tdp_hate_crimes = incident_table[incident_table['party_in_power'] == \"TDP\"]\n",
    "tdp_hate_crimes = len(tdp_hate_crimes.index.to_list())\n",
    "\n",
    "hate_crimes_by_party_list = np.array([bjp_hate_crimes, sp_hate_crimes, aap_hate_crimes, inc_hate_crimes, jdu_hate_crimes, aiadmk_hate_crimes, trs_hate_crimes, cpim_hate_crimes, npf_hate_crimes, tdp_hate_crimes])\n",
    "mylabels = [\"BJP\", \"SP\", \"AAP\", \"INC\",\"JD(U)+\",\"AIADMK\",\"TRS\",\"CPIM\",\"NPF\",\"TDP\"]"
   ]
  },
  {
   "cell_type": "code",
   "execution_count": 37,
   "metadata": {
    "scrolled": true
   },
   "outputs": [
    {
     "data": {
      "application/vnd.jupyter.widget-view+json": {
       "model_id": "77765143830f4dfa8685465fbc541936",
       "version_major": 2,
       "version_minor": 0
      },
      "text/plain": [
       "interactive(children=(Dropdown(description='Identity: ', options=('Dalit', 'Muslim', 'Transgender', 'Adivasi',…"
      ]
     },
     "metadata": {},
     "output_type": "display_data"
    },
    {
     "data": {
      "text/plain": [
       "<function __main__.show_map(identity)>"
      ]
     },
     "execution_count": 37,
     "metadata": {},
     "output_type": "execute_result"
    }
   ],
   "source": [
    "dropdown = widgets.Dropdown(options=[\"Dalit\",\"Muslim\",\"Transgender\",\"Adivasi\",\"Christian\"],description=\"Identity: \")\n",
    "\n",
    "def show_map(identity):\n",
    "    if identity == \"Dalit\":\n",
    "        display(dalit_map)\n",
    "    if identity == \"Muslim\":\n",
    "        display(muslim_map)\n",
    "    if identity == \"Adivasi\":\n",
    "        display(adivasi_map)\n",
    "    if identity == \"Transgender\":\n",
    "        display(trans_map)\n",
    "    if identity == \"Christian\":\n",
    "        display(christian_map)\n",
    "        \n",
    "widgets.interact(show_map, identity=dropdown)"
   ]
  },
  {
   "cell_type": "markdown",
   "metadata": {},
   "source": [
    "## Final Presentation: Demo"
   ]
  },
  {
   "cell_type": "markdown",
   "metadata": {},
   "source": [
    "The code before this section is prep-work for the below summaries and visualizations. The following features include general analytics, data exploration, and search functionality."
   ]
  },
  {
   "cell_type": "markdown",
   "metadata": {},
   "source": [
    "### Section 1: General Analytics"
   ]
  },
  {
   "cell_type": "code",
   "execution_count": 38,
   "metadata": {},
   "outputs": [
    {
     "data": {
      "image/png": "[encoded data removed]",
      "text/plain": [
       "<Figure size 432x288 with 1 Axes>"
      ]
     },
     "metadata": {
      "needs_background": "light"
     },
     "output_type": "display_data"
    }
   ],
   "source": [
    "hate_crime_breakdown = plt.figure()\n",
    "ax = hate_crime_breakdown.add_axes([0,0,1,1])\n",
    "labels = ['Caste-Related', 'Religion-Related', 'Gender-Related', 'Adivasi-Related', 'Other']\n",
    "bars = [caste_hate_crimes, religion_hate_crimes, gender_hate_crimes, adivasi_hate_crimes, other_hate_crimes]\n",
    "ax.bar(labels, bars)\n",
    "plt.show(hate_crime_breakdown)"
   ]
  },
  {
   "cell_type": "markdown",
   "metadata": {},
   "source": [
    "Hate Crime Breakdown: The above graph is a general breakdown of hate-crimes in India. The graph shows that caste-related crimes happen at the highest volume and that gender-related crimes happen at the second highest volume. This confirms my identification of Dalit (lower-caste) women as a uniquely marginalized group."
   ]
  },
  {
   "cell_type": "code",
   "execution_count": 39,
   "metadata": {},
   "outputs": [
    {
     "data": {
      "image/png": "[encoded data removed]",
      "text/plain": [
       "<Figure size 432x288 with 1 Axes>"
      ]
     },
     "metadata": {
      "needs_background": "light"
     },
     "output_type": "display_data"
    }
   ],
   "source": [
    "legal_breakdown = plt.figure()\n",
    "ax = legal_breakdown.add_axes([0,0,1,1])\n",
    "labels = ['Complaints', 'FIR', 'Counter FIR', 'Charge Filed', 'Court Hearing','convictionOrAcquittal','Compensation']\n",
    "bars = [complaints, fir, counter_fir, charges_filed, court_hearing, convictionOrAcquittal, compensation]\n",
    "ax.bar(labels, bars)\n",
    "plt.show(hate_crime_breakdown)"
   ]
  },
  {
   "cell_type": "markdown",
   "metadata": {},
   "source": [
    "Legal Breakdown: The above graph shows how many crimes are followed with complaints, first information reports (FIR), counter FIR's, charges filed, court hearings, convictions of acquittals, and compensation for the victim. These results are shocking; they show that despite the majority of hate-crime victims filing complaints, very few recieve FIR's from the police and even fewer get further legal justice."
   ]
  },
  {
   "cell_type": "code",
   "execution_count": 40,
   "metadata": {},
   "outputs": [
    {
     "data": {
      "image/png": "[encoded data removed]",
      "text/plain": [
       "<Figure size 432x288 with 1 Axes>"
      ]
     },
     "metadata": {},
     "output_type": "display_data"
    }
   ],
   "source": [
    "hate_crimes_by_party = plt.pie(hate_crimes_by_party_list, labels = mylabels)\n",
    "plt.show(hate_crimes_by_party) "
   ]
  },
  {
   "cell_type": "markdown",
   "metadata": {},
   "source": [
    "Hate Crimes By Political Party: The above pie chart shows which Indian political parties in India are responsible for the highest number of hate-crimes. The Bharatiya Janata Party (BJP) is responsible for the highest number of hate crimes."
   ]
  },
  {
   "cell_type": "markdown",
   "metadata": {},
   "source": [
    "### Section 2: Data Exploration Using Locational Data"
   ]
  },
  {
   "cell_type": "code",
   "execution_count": 41,
   "metadata": {},
   "outputs": [
    {
     "data": {
      "application/vnd.jupyter.widget-view+json": {
       "model_id": "e551734c19fe414086b3adbf311c32cc",
       "version_major": 2,
       "version_minor": 0
      },
      "text/plain": [
       "interactive(children=(Dropdown(description='Identity: ', options=('Dalit', 'Muslim', 'Transgender', 'Adivasi',…"
      ]
     },
     "metadata": {},
     "output_type": "display_data"
    },
    {
     "data": {
      "text/plain": [
       "<function __main__.show_map(identity)>"
      ]
     },
     "execution_count": 41,
     "metadata": {},
     "output_type": "execute_result"
    }
   ],
   "source": [
    "dropdown = widgets.Dropdown(options=[\"Dalit\",\"Muslim\",\"Transgender\",\"Adivasi\",\"Christian\"],description=\"Identity: \")\n",
    "\n",
    "def show_map(identity):\n",
    "    if identity == \"Dalit\":\n",
    "        display(dalit_map)\n",
    "    if identity == \"Muslim\":\n",
    "        display(muslim_map)\n",
    "    if identity == \"Adivasi\":\n",
    "        display(adivasi_map)\n",
    "    if identity == \"Transgender\":\n",
    "        display(trans_map)\n",
    "    if identity == \"Christian\":\n",
    "        display(christian_map)\n",
    "        \n",
    "widgets.interact(show_map, identity=dropdown)"
   ]
  },
  {
   "cell_type": "markdown",
   "metadata": {},
   "source": [
    "Heat Map of India: The above map tells us the regions in India where hate-crimes are the highest. Users can filter these crimes based on identity to see where the least safe places are for a given identity."
   ]
  },
  {
   "cell_type": "markdown",
   "metadata": {},
   "source": [
    "### Section 3: Media Search"
   ]
  },
  {
   "cell_type": "code",
   "execution_count": 42,
   "metadata": {},
   "outputs": [
    {
     "data": {
      "application/vnd.jupyter.widget-view+json": {
       "model_id": "9474454269e1423db406df5d9056a2bb",
       "version_major": 2,
       "version_minor": 0
      },
      "text/plain": [
       "interactive(children=(Text(value='', description='Search:', placeholder='Enter keyword'), Output()), _dom_clas…"
      ]
     },
     "metadata": {},
     "output_type": "display_data"
    }
   ],
   "source": [
    "search_box = widgets.Text(\n",
    "    placeholder='Enter keyword',\n",
    "    description='Search:',\n",
    "    disabled=False\n",
    ")\n",
    "\n",
    "def search(search_term):\n",
    "    search_result = media_table[media_table['Headline'].str.contains(search_term)]\n",
    "    display(search_result)\n",
    "\n",
    "            \n",
    "def on_submit_func(sender):\n",
    "    print(\"Search Results: \")\n",
    "    #search(search_box.value)\n",
    "    \n",
    "\n",
    "widgets.interact(search, search_term=search_box)\n",
    "search_box.on_submit(on_submit_func)\n"
   ]
  },
  {
   "cell_type": "markdown",
   "metadata": {},
   "source": [
    "Media Search: The above table consists of all of the media articles corresponding to different hate crimes. Users can search key terms to kinds articles with relevant headlines."
   ]
  },
  {
   "cell_type": "markdown",
   "metadata": {},
   "source": [
    "## End"
   ]
  },
  {
   "cell_type": "markdown",
   "metadata": {},
   "source": [
    "Thank you for taking the time to review my analysis on Indian hate crimes."
   ]
  }
 ],
 "metadata": {
  "kernelspec": {
   "display_name": "Python 3",
   "language": "python",
   "name": "python3"
  },
  "language_info": {
   "codemirror_mode": {
    "name": "ipython",
    "version": 3
   },
   "file_extension": ".py",
   "mimetype": "text/x-python",
   "name": "python",
   "nbconvert_exporter": "python",
   "pygments_lexer": "ipython3",
   "version": "3.8.5"
  }
 },
 "nbformat": 4,
 "nbformat_minor": 4
}
